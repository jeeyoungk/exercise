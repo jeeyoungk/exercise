{
 "cells": [
  {
   "cell_type": "markdown",
   "metadata": {},
   "source": [
    "# Solving Ricochet Robot\n",
    "\n",
    "See https://en.wikipedia.org/wiki/Ricochet_Robot for more info"
   ]
  },
  {
   "cell_type": "code",
   "execution_count": 130,
   "metadata": {
    "collapsed": true
   },
   "outputs": [],
   "source": [
    "# %matplotlib inline\n",
    "import matplotlib.pyplot as plt"
   ]
  },
  {
   "cell_type": "code",
   "execution_count": 176,
   "metadata": {
    "collapsed": false
   },
   "outputs": [],
   "source": [
    "DIMENSION = 16 # size of the board\n",
    "UP, DOWN, LEFT, RIGHT = range(4) # directional enum\n",
    "DIRX = [0, 0, -1, 1] # directional vectors\n",
    "DIRY = [1, -1, 0, 0] # color vectors\n",
    "COLORS = ['red','blue','green','purple']\n",
    "\n",
    "def normalize_wall(x, y, direction):\n",
    "    'walls are normalized to \"down\" or \"left\"'\n",
    "    if direction == UP:\n",
    "        direction = DOWN\n",
    "        y += 1\n",
    "    elif direction == RIGHT:\n",
    "        direction = LEFT\n",
    "        x += 1\n",
    "    return (x, y, direction)\n",
    "\n",
    "def compute_delta(robots1, robots2):\n",
    "    # delta between two position\n",
    "    # return (color, (x, y), (x, y))\n",
    "    for idx in range(len(COLORS)):\n",
    "        if robots1[idx] != robots2[idx]:\n",
    "            return (idx, robots1[idx], robots2[idx])\n",
    "\n",
    "class Board(object):\n",
    "    def __init__(self):\n",
    "        # bottom left of grid is 0, 0\n",
    "        self.walls = set() # list of walls - (x, y, (DOWN|LEFT))\n",
    "        \n",
    "    def add_wall(self, x, y, direction):\n",
    "        \"\"\"Add a wall to the current position\"\"\"\n",
    "        self.walls.add(normalize_wall(x, y, direction))\n",
    "        \n",
    "    def has_wall(self, x, y, direction):\n",
    "        \"\"\"Determine whether there's a wall in the given position.\"\"\"\n",
    "        return normalize_wall(x, y, direction) in self.walls\n",
    "        \n",
    "    def next_moves(self, robots):\n",
    "        \"\"\"Generate list of next moves.\"\"\"\n",
    "        def generate(index, replaced_robot):\n",
    "            return tuple((replaced_robot if i == index else robot) for (i, robot) in enumerate(robots))\n",
    "        for index, robot in enumerate(robots):\n",
    "            for direction in range(len(COLORS)):\n",
    "                (x, y) = robot\n",
    "                moved = False\n",
    "                while True:\n",
    "                    newx = x + DIRX[direction]\n",
    "                    newy = y + DIRY[direction]\n",
    "                    if self.has_wall(x, y, direction) or (newx, newy) in robots:\n",
    "                        if moved:\n",
    "                            yield generate(index, (x, y))\n",
    "                        break\n",
    "                    else:\n",
    "                        moved = True\n",
    "                        x = newx\n",
    "                        y = newy"
   ]
  },
  {
   "cell_type": "code",
   "execution_count": 197,
   "metadata": {
    "collapsed": false
   },
   "outputs": [],
   "source": [
    "import heapq\n",
    "\n",
    "MAX_DEPTH = 30\n",
    "\n",
    "class Stat(object):\n",
    "    def __init__(self):\n",
    "        self.iteration = 0\n",
    "        self.distance = -1\n",
    "        \n",
    "    def __repr__(self):\n",
    "        return repr(self.__dict__)\n",
    "        \n",
    "def astar(board, start, finish_condition, heuristic=None, stat=None):\n",
    "    # finish_condition = (color, (x, y))\n",
    "    queue = [] # contains (distance+heuristic, distance, position)\n",
    "    heapq.heappush(queue, (0, 0, start, None))\n",
    "    history = {} # position -> (distance, previous)\n",
    "    finish_color, finish_position = finish_condition\n",
    "    if not stat:\n",
    "        stat = Stat()\n",
    "    if not heuristic:\n",
    "        heuristic = lambda new, old: 0\n",
    "    while queue:\n",
    "        stat.iteration += 1\n",
    "        _, distance, position, prev_position = heapq.heappop(queue)\n",
    "        if distance > MAX_DEPTH:\n",
    "            return\n",
    "        if finish_position == position[finish_color]:\n",
    "            positions = [position, prev_position]\n",
    "            cur_position = prev_position\n",
    "            while cur_position in history:\n",
    "                cur_position = history[cur_position][1]\n",
    "                if cur_position is not None:\n",
    "                    positions.append(cur_position)\n",
    "            stat.distance = distance\n",
    "            return positions\n",
    "        if position in history:\n",
    "            continue\n",
    "        else:\n",
    "            history[position] = (distance, prev_position)\n",
    "        new_distance = distance + 1\n",
    "        for new_position in board.next_moves(position):\n",
    "            heapq.heappush(queue, (new_distance + heuristic(position, new_position), new_distance, new_position, position))"
   ]
  },
  {
   "cell_type": "code",
   "execution_count": 193,
   "metadata": {
    "collapsed": true
   },
   "outputs": [],
   "source": [
    "def print_board(board, robots,\n",
    "                paths=None,\n",
    "                additionals=None,\n",
    "                draw_grid=False,\n",
    "                finish=None):\n",
    "    '''\n",
    "    Print the given board position.\n",
    "    robots - 4-tuple of pair (x, y), representing red, blue, green, and yellow robots.\n",
    "    paths - list of (color, (x, y), (x, y)) paths to draw.\n",
    "    additionals - list of (color, (x, y)) points to draw.\n",
    "    '''\n",
    "    plt.figure(figsize=(5, 5))\n",
    "    margin = 0.1\n",
    "    PADDING = 0.5\n",
    "    if draw_grid:\n",
    "        for row in range(DIMENSION):\n",
    "            for col in range(DIMENSION):\n",
    "                rectangle = plt.Rectangle((row + margin, col + margin),\n",
    "                                          1 - margin * 2,\n",
    "                                          1 - margin * 2,\n",
    "                                          fc='#eeefff')\n",
    "                plt.gca().add_patch(rectangle)\n",
    "    def plot_robot(index, coord, size):\n",
    "        (x, y) = coord\n",
    "        circle = plt.Circle((x + 0.5, y + 0.5), size, fc=COLORS[i])\n",
    "        plt.gca().add_patch(circle)\n",
    "        \n",
    "    for wall in board.walls:\n",
    "        (x1, y1, direction) = wall\n",
    "        if direction == DOWN:\n",
    "            x2 = x1 + 1\n",
    "            y2 = y1\n",
    "        else:\n",
    "            x2 = x1\n",
    "            y2 = y1 + 1\n",
    "        line = plt.Line2D((x1, x2), (y1, y2), lw=2.5, color='black')\n",
    "        plt.gca().add_line(line)\n",
    "    for path in (paths or []):\n",
    "        (i, pos1, pos2) = path\n",
    "        line = plt.Line2D((pos1[0] + 0.5, pos2[0] + 0.5), (pos1[1] + 0.5, pos2[1] + 0.5), color=COLORS[i],\n",
    "                         marker='x')\n",
    "        plt.gca().add_line(line)\n",
    "    for additional in (additionals or []):\n",
    "        (i, robot) = additional\n",
    "        plot_robot(i, robot, 0.1)\n",
    "    if finish is not None:\n",
    "        (i, coord) = finish\n",
    "        (row, col) = coord\n",
    "        rectangle = plt.Rectangle((row + margin, col + margin),\n",
    "                                  1 - margin * 2,\n",
    "                                  1 - margin * 2,\n",
    "                                  fc=COLORS[i])\n",
    "        plt.gca().add_patch(rectangle)\n",
    "        \n",
    "    plt.xlim(0 - PADDING, 16 + PADDING)\n",
    "    plt.ylim(0 - PADDING, 16 + PADDING)\n",
    "    for i in range(len(COLORS)):\n",
    "        plot_robot(i, robots[i], 0.4)\n",
    "    plt.show()"
   ]
  },
  {
   "cell_type": "code",
   "execution_count": 194,
   "metadata": {
    "collapsed": false
   },
   "outputs": [],
   "source": [
    "# sample board\n",
    "# TODO - randomly generate this\n",
    "# got idea from http://1.bp.blogspot.com/-Ythx5IaMAxY/UPrGdgymTUI/AAAAAAAAHzY/3qHS2Hp9tkw/s1600/006-Ricochet+Robot.JPG\n",
    "board = Board()\n",
    "for i in range(16):\n",
    "    board.add_wall(0, i, LEFT)\n",
    "    board.add_wall(i, 0, DOWN)\n",
    "    board.add_wall(16, i, LEFT)\n",
    "    board.add_wall(i, 16, DOWN)\n",
    "board.add_wall(0, 5, DOWN)\n",
    "board.add_wall(0, 9, DOWN)\n",
    "board.add_wall(1, 12, RIGHT)\n",
    "board.add_wall(1, 12, UP)\n",
    "board.add_wall(1, 2, DOWN)\n",
    "board.add_wall(1, 2, LEFT)\n",
    "board.add_wall(10, 15, LEFT)\n",
    "board.add_wall(10, 8, RIGHT)\n",
    "board.add_wall(10, 8, UP)\n",
    "board.add_wall(11, 1, DOWN)\n",
    "board.add_wall(11, 1, RIGHT)\n",
    "board.add_wall(11, 13, DOWN)\n",
    "board.add_wall(11, 13, LEFT)\n",
    "board.add_wall(12, 6, RIGHT)\n",
    "board.add_wall(12, 6, UP)\n",
    "board.add_wall(13, 9, DOWN)\n",
    "board.add_wall(13, 9, RIGHT)\n",
    "board.add_wall(14, 0, LEFT)\n",
    "board.add_wall(14, 14, LEFT)\n",
    "board.add_wall(14, 14, UP)\n",
    "board.add_wall(14, 2, DOWN)\n",
    "board.add_wall(14, 2, LEFT)\n",
    "board.add_wall(15, 12, DOWN)\n",
    "board.add_wall(15, 6, DOWN)\n",
    "board.add_wall(2, 10, DOWN)\n",
    "board.add_wall(2, 10, RIGHT)\n",
    "board.add_wall(3, 6, DOWN)\n",
    "board.add_wall(3, 6, RIGHT)\n",
    "board.add_wall(4, 15, LEFT)\n",
    "board.add_wall(5, 0, LEFT)\n",
    "board.add_wall(5, 11, LEFT)\n",
    "board.add_wall(5, 11, UP)\n",
    "board.add_wall(5, 4, LEFT)\n",
    "board.add_wall(5, 4, UP)\n",
    "board.add_wall(6, 1, RIGHT)\n",
    "board.add_wall(6, 1, UP)\n",
    "board.add_wall(6, 14, DOWN)\n",
    "board.add_wall(6, 14, LEFT)\n",
    "board.add_wall(7, 10, DOWN)\n",
    "board.add_wall(7, 10, RIGHT)\n",
    "board.add_wall(9, 3, LEFT)\n",
    "board.add_wall(9, 3, UP)\n",
    "# center piece\n",
    "board.add_wall(7, 7, LEFT)\n",
    "board.add_wall(7, 7, DOWN)\n",
    "board.add_wall(7, 8, LEFT)\n",
    "board.add_wall(7, 8, UP)\n",
    "board.add_wall(8, 7, RIGHT)\n",
    "board.add_wall(8, 7, DOWN)\n",
    "board.add_wall(8, 8, RIGHT)\n",
    "board.add_wall(8, 8, UP)\n",
    "robots = ((0, 1), (4, 1), (7, 14), (12, 4))"
   ]
  },
  {
   "cell_type": "code",
   "execution_count": 212,
   "metadata": {
    "collapsed": false
   },
   "outputs": [],
   "source": [
    "def run_and_plot(finish, heuristic=None):\n",
    "    stat = Stat()\n",
    "    deltas = set()\n",
    "    positions = astar(board, robots, finish, heuristic=heuristic, stat=stat)\n",
    "    if positions is not None:\n",
    "        for i in range(len(positions) - 1):\n",
    "            deltas.add(compute_delta(positions[i + 1], positions[i]))\n",
    "    print_board(board, robots, deltas, finish=finish, draw_grid=False)\n",
    "    return stat\n",
    "\n",
    "def prefer_moving_main(color, weight=1):\n",
    "    # note: weight > 1, then inadmissible\n",
    "    def heuristic(new, old):\n",
    "        return 0 if (compute_delta(new, old)[0] == color) else weight\n",
    "    return heuristic\n",
    "\n",
    "def make_heuristic(coord, board):\n",
    "    # TODO\n",
    "    pass"
   ]
  },
  {
   "cell_type": "code",
   "execution_count": null,
   "metadata": {
    "collapsed": true
   },
   "outputs": [],
   "source": []
  },
  {
   "cell_type": "code",
   "execution_count": 213,
   "metadata": {
    "collapsed": false,
    "scrolled": true
   },
   "outputs": [
    {
     "data": {
      "image/png": "[encoded data removed]",
      "text/plain": [
       "<matplotlib.figure.Figure at 0x10f668240>"
      ]
     },
     "metadata": {},
     "output_type": "display_data"
    },
    {
     "data": {
      "text/plain": [
       "{'distance': 6, 'iteration': 74052}"
      ]
     },
     "execution_count": 213,
     "metadata": {},
     "output_type": "execute_result"
    }
   ],
   "source": [
    "# Without any heuristic\n",
    "run_and_plot((0, (15, 12)))"
   ]
  },
  {
   "cell_type": "code",
   "execution_count": 222,
   "metadata": {
    "collapsed": false
   },
   "outputs": [
    {
     "data": {
      "image/png": "[encoded data removed]",
      "text/plain": [
       "<matplotlib.figure.Figure at 0x110629e80>"
      ]
     },
     "metadata": {},
     "output_type": "display_data"
    },
    {
     "data": {
      "text/plain": [
       "{'distance': 6, 'iteration': 36621}"
      ]
     },
     "execution_count": 222,
     "metadata": {},
     "output_type": "execute_result"
    }
   ],
   "source": [
    "# with heuristic - reduces # of moves by 1/2\n",
    "run_and_plot((0, (15, 12)), prefer_moving_main(0))"
   ]
  },
  {
   "cell_type": "code",
   "execution_count": 224,
   "metadata": {
    "collapsed": false
   },
   "outputs": [
    {
     "data": {
      "image/png": "[encoded data removed]",
      "text/plain": [
       "<matplotlib.figure.Figure at 0x112432898>"
      ]
     },
     "metadata": {},
     "output_type": "display_data"
    },
    {
     "data": {
      "text/plain": [
       "{'distance': 3, 'iteration': 385}"
      ]
     },
     "execution_count": 224,
     "metadata": {},
     "output_type": "execute_result"
    }
   ],
   "source": [
    "run_and_plot((0, (0, 5)), prefer_moving_main(0))"
   ]
  },
  {
   "cell_type": "code",
   "execution_count": 227,
   "metadata": {
    "collapsed": false,
    "scrolled": true
   },
   "outputs": [
    {
     "data": {
      "image/png": "[encoded data removed]",
      "text/plain": [
       "<matplotlib.figure.Figure at 0x10f621a20>"
      ]
     },
     "metadata": {},
     "output_type": "display_data"
    },
    {
     "data": {
      "text/plain": [
       "{'distance': 8, 'iteration': 258724}"
      ]
     },
     "execution_count": 227,
     "metadata": {},
     "output_type": "execute_result"
    }
   ],
   "source": [
    "run_and_plot((0, (7, 10)), prefer_moving_main(0, 1))"
   ]
  },
  {
   "cell_type": "code",
   "execution_count": 209,
   "metadata": {
    "collapsed": false
   },
   "outputs": [
    {
     "data": {
      "image/png": "[encoded data removed]",
      "text/plain": [
       "<matplotlib.figure.Figure at 0x10f668240>"
      ]
     },
     "metadata": {},
     "output_type": "display_data"
    },
    {
     "data": {
      "text/plain": [
       "{'distance': 7, 'iteration': 78416}"
      ]
     },
     "execution_count": 209,
     "metadata": {},
     "output_type": "execute_result"
    }
   ],
   "source": [
    "run_and_plot((1, (2, 10)), prefer_moving_main(1))"
   ]
  },
  {
   "cell_type": "code",
   "execution_count": 210,
   "metadata": {
    "collapsed": false
   },
   "outputs": [
    {
     "data": {
      "image/png": "[encoded data removed]",
      "text/plain": [
       "<matplotlib.figure.Figure at 0x111cd6b38>"
      ]
     },
     "metadata": {},
     "output_type": "display_data"
    },
    {
     "data": {
      "text/plain": [
       "{'distance': 9, 'iteration': 511919}"
      ]
     },
     "execution_count": 210,
     "metadata": {},
     "output_type": "execute_result"
    }
   ],
   "source": [
    "run_and_plot((2, (5, 5)), prefer_moving_main(2))"
   ]
  },
  {
   "cell_type": "code",
   "execution_count": 221,
   "metadata": {
    "collapsed": false
   },
   "outputs": [
    {
     "data": {
      "image/png": "[encoded data removed]",
      "text/plain": [
       "<matplotlib.figure.Figure at 0x1113c6710>"
      ]
     },
     "metadata": {},
     "output_type": "display_data"
    },
    {
     "data": {
      "text/plain": [
       "{'distance': 9, 'iteration': 288347}"
      ]
     },
     "execution_count": 221,
     "metadata": {},
     "output_type": "execute_result"
    }
   ],
   "source": [
    "run_and_plot((2, (5, 5)), prefer_moving_main(2, 2))"
   ]
  },
  {
   "cell_type": "code",
   "execution_count": null,
   "metadata": {
    "collapsed": true
   },
   "outputs": [],
   "source": []
  }
 ],
 "metadata": {
  "kernelspec": {
   "display_name": "Python 3",
   "language": "python",
   "name": "python3"
  },
  "language_info": {
   "codemirror_mode": {
    "name": "ipython",
    "version": 3
   },
   "file_extension": ".py",
   "mimetype": "text/x-python",
   "name": "python",
   "nbconvert_exporter": "python",
   "pygments_lexer": "ipython3",
   "version": "3.4.2"
  }
 },
 "nbformat": 4,
 "nbformat_minor": 0
}
