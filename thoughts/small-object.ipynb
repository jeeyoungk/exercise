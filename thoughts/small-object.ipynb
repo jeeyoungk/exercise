{
 "cells": [
  {
   "cell_type": "code",
   "execution_count": 71,
   "metadata": {
    "collapsed": false
   },
   "outputs": [],
   "source": [
    "import sys"
   ]
  },
  {
   "cell_type": "code",
   "execution_count": 82,
   "metadata": {
    "collapsed": false
   },
   "outputs": [
    {
     "name": "stdout",
     "output_type": "stream",
     "text": [
      "2489\n"
     ]
    }
   ],
   "source": [
    "# python reuses small integer objects within its runtime.\n",
    "x = None\n",
    "print(sys.getrefcount(0))"
   ]
  },
  {
   "cell_type": "code",
   "execution_count": 83,
   "metadata": {
    "collapsed": false
   },
   "outputs": [
    {
     "name": "stdout",
     "output_type": "stream",
     "text": [
      "2491\n"
     ]
    }
   ],
   "source": [
    "x = 0\n",
    "print(sys.getrefcount(0))"
   ]
  },
  {
   "cell_type": "code",
   "execution_count": 74,
   "metadata": {
    "collapsed": false
   },
   "outputs": [
    {
     "name": "stdout",
     "output_type": "stream",
     "text": [
      "True\n",
      "True\n"
     ]
    }
   ],
   "source": [
    "# for small objects, \"is\" and \"==\" are true.\n",
    "print(0 == 0)\n",
    "print(0 is 0)"
   ]
  },
  {
   "cell_type": "code",
   "execution_count": 95,
   "metadata": {
    "collapsed": false
   },
   "outputs": [
    {
     "name": "stdout",
     "output_type": "stream",
     "text": [
      "value: 1, is-comparison: True\n",
      "value: 10, is-comparison: True\n",
      "value: 100, is-comparison: True\n",
      "value: 1000, is-comparison: False\n",
      "value: 10000, is-comparison: False\n",
      "value: 100000, is-comparison: False\n",
      "value: 1000000, is-comparison: False\n",
      "value: 10000000, is-comparison: False\n",
      "value: 100000000, is-comparison: False\n",
      "value: 1000000000, is-comparison: False\n"
     ]
    }
   ],
   "source": [
    "# when does this end? somewhere between 100 and 1000.\n",
    "for i in range(10):\n",
    "    print (\"value: %d, is-comparison: %s\" % (10 ** i, 10 ** i is 10 ** i))"
   ]
  },
  {
   "cell_type": "code",
   "execution_count": 86,
   "metadata": {
    "collapsed": false
   },
   "outputs": [
    {
     "name": "stdout",
     "output_type": "stream",
     "text": [
      "True\n"
     ]
    }
   ],
   "source": [
    "# the boundary is actually between 256 and 257!\n",
    "sys.getrefcount(256)\n",
    "print (256 + 0 is 256 + 0)"
   ]
  },
  {
   "cell_type": "code",
   "execution_count": 87,
   "metadata": {
    "collapsed": false
   },
   "outputs": [
    {
     "name": "stdout",
     "output_type": "stream",
     "text": [
      "False\n"
     ]
    }
   ],
   "source": [
    "# bigger objects are not cached and created one off.\n",
    "sys.getrefcount(257)\n",
    "print (256 + 1 is 256 + 1)"
   ]
  },
  {
   "cell_type": "code",
   "execution_count": 91,
   "metadata": {
    "collapsed": false
   },
   "outputs": [
    {
     "name": "stdout",
     "output_type": "stream",
     "text": [
      "False\n",
      "True\n"
     ]
    }
   ],
   "source": [
    "# we had to use 256 + 1 to fight interpreter optimization.\n",
    "# constant literals in a single statement uses same references.\n",
    "lhs = 257\n",
    "rhs = 257\n",
    "print (lhs is rhs)\n",
    "print (257 is 257)"
   ]
  },
  {
   "cell_type": "code",
   "execution_count": null,
   "metadata": {
    "collapsed": true
   },
   "outputs": [],
   "source": []
  }
 ],
 "metadata": {
  "kernelspec": {
   "display_name": "Python 3",
   "language": "python",
   "name": "python3"
  },
  "language_info": {
   "codemirror_mode": {
    "name": "ipython",
    "version": 3
   },
   "file_extension": ".py",
   "mimetype": "text/x-python",
   "name": "python",
   "nbconvert_exporter": "python",
   "pygments_lexer": "ipython3",
   "version": "3.5.1"
  }
 },
 "nbformat": 4,
 "nbformat_minor": 0
}
