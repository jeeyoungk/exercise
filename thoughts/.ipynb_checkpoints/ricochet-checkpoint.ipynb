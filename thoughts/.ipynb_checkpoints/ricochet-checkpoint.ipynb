{
 "cells": [
  {
   "cell_type": "markdown",
   "metadata": {},
   "source": [
    "# Solving Ricochet Robot\n",
    "\n",
    "See https://en.wikipedia.org/wiki/Ricochet_Robot for more info"
   ]
  },
  {
   "cell_type": "code",
   "execution_count": 1,
   "metadata": {
    "collapsed": false
   },
   "outputs": [],
   "source": [
    "%matplotlib inline\n",
    "%load_ext autoreload"
   ]
  },
  {
   "cell_type": "code",
   "execution_count": 2,
   "metadata": {
    "collapsed": false
   },
   "outputs": [],
   "source": [
    "import ricochet\n",
    "from ricochet import Direction, DIMENSION, Color"
   ]
  },
  {
   "cell_type": "code",
   "execution_count": 3,
   "metadata": {
    "collapsed": false
   },
   "outputs": [],
   "source": [
    "# Sample Board\n",
    "# TODO - randomly generate this\n",
    "# got idea from http://1.bp.blogspot.com/-Ythx5IaMAxY/UPrGdgymTUI/AAAAAAAAHzY/3qHS2Hp9tkw/s1600/006-Ricochet+Robot.JPG\n",
    "board = ricochet.Board()\n",
    "for i in range(ricochet.DIMENSION):\n",
    "    board.add_wall(0, i, Direction.LEFT)\n",
    "    board.add_wall(i, 0, Direction.DOWN)\n",
    "    board.add_wall(DIMENSION, i, Direction.LEFT)\n",
    "    board.add_wall(i, DIMENSION, Direction.DOWN)\n",
    "walls = [\n",
    "  (0, 5, Direction.DOWN), (0, 9, Direction.DOWN),\n",
    "  (1, 12, Direction.RIGHT), (1, 12, Direction.UP), (1, 2, Direction.DOWN), (1, 2, Direction.LEFT),\n",
    "  (2, 10, Direction.DOWN), (2, 10, Direction.RIGHT),\n",
    "  (3, 6, Direction.DOWN), (3, 6, Direction.RIGHT),\n",
    "  (4, 15, Direction.LEFT),\n",
    "  (5, 0, Direction.LEFT), (5, 11, Direction.LEFT), (5, 11, Direction.UP), (5, 4, Direction.LEFT), (5, 4, Direction.UP),\n",
    "  (6, 1, Direction.RIGHT), (6, 1, Direction.UP), (6, 14, Direction.DOWN), (6, 14, Direction.LEFT),\n",
    "  (7, 10, Direction.DOWN), (7, 10, Direction.RIGHT), (7, 7, Direction.DOWN), (7, 7, Direction.LEFT), (7, 8, Direction.LEFT), (7, 8, Direction.UP),\n",
    "  (8, 7, Direction.DOWN), (8, 7, Direction.RIGHT), (8, 8, Direction.RIGHT), (8, 8, Direction.UP),\n",
    "  (9, 3, Direction.LEFT), (9, 3, Direction.UP),\n",
    "  (10, 15, Direction.LEFT), (10, 8, Direction.RIGHT), (10, 8, Direction.UP),\n",
    "  (11, 1, Direction.DOWN), (11, 1, Direction.RIGHT), (11, 13, Direction.DOWN), (11, 13, Direction.LEFT),\n",
    "  (12, 6, Direction.RIGHT), (12, 6, Direction.UP),\n",
    "  (13, 9, Direction.DOWN), (13, 9, Direction.RIGHT),\n",
    "  (14, 0, Direction.LEFT), (14, 14, Direction.LEFT), (14, 14, Direction.UP), (14, 2, Direction.DOWN), (14, 2, Direction.LEFT),\n",
    "  (15, 12, Direction.DOWN), (15, 6, Direction.DOWN),\n",
    "]\n",
    "\n",
    "for wall in walls:\n",
    "    board.add_wall(*wall)\n",
    "\n",
    "robots = ((0, 1), (4, 1), (7, 14), (12, 4))"
   ]
  },
  {
   "cell_type": "code",
   "execution_count": 4,
   "metadata": {
    "collapsed": false
   },
   "outputs": [],
   "source": [
    "def run_and_plot(finish, heuristic=None, neighbour=None):\n",
    "    \"\"\"run the board.\"\"\"\n",
    "    stat = ricochet.Stat()\n",
    "    deltas = set()\n",
    "    if neighbour is None: neighbour = lambda position : ricochet.next_moves_all(board, position)    \n",
    "    finish_color, finish_position = finish\n",
    "    def finish_function(position): return finish_position == position[finish_color]\n",
    "    positions = ricochet.astar(robots, neighbour, finish_condition=finish_function, heuristic=heuristic, stat=stat)\n",
    "    if positions is not None:\n",
    "        for i in range(len(positions) - 1):\n",
    "            deltas.add(ricochet.compute_delta(positions[i + 1], positions[i]))\n",
    "    ricochet.print_board(board, robots, deltas, markers=[finish])\n",
    "    return stat\n",
    "\n",
    "def prefer_moving_main(color, weight=1):\n",
    "    # note: weight > 1, then inadmissible\n",
    "    def heuristic(new, old):\n",
    "        return 0 if (ricochet.compute_delta(new, old)[0] == color) else weight\n",
    "    return heuristic\n",
    "\n",
    "def make_heuristic(coord, board):\n",
    "    # TODO\n",
    "    pass"
   ]
  },
  {
   "cell_type": "markdown",
   "metadata": {},
   "source": [
    "# Introduction"
   ]
  },
  {
   "cell_type": "code",
   "execution_count": null,
   "metadata": {
    "collapsed": false
   },
   "outputs": [],
   "source": [
    "# starting board position\n",
    "ricochet.print_board(board, robots)"
   ]
  },
  {
   "cell_type": "code",
   "execution_count": null,
   "metadata": {
    "collapsed": false
   },
   "outputs": [],
   "source": [
    "only_red = lambda coord: ricochet.next_moves_single(board, Color.RED.value, coord)\n",
    "# all valid first move\n",
    "def compute(position, deltas, depth = 1):\n",
    "    if depth == 0: return\n",
    "    for new_position in ricochet.next_moves_all(board, position):\n",
    "        deltas.add(ricochet.compute_delta(position, new_position))\n",
    "        compute(new_position, deltas, depth - 1)\n",
    "deltas = set()\n",
    "compute(robots, deltas)\n",
    "ricochet.print_board(board, robots, paths=deltas)"
   ]
  },
  {
   "cell_type": "code",
   "execution_count": null,
   "metadata": {
    "collapsed": false
   },
   "outputs": [],
   "source": [
    "# all valid depth 3 moves\n",
    "deltas = set()\n",
    "compute(robots, deltas, depth=3)\n",
    "ricochet.print_board(board, robots, paths=deltas)"
   ]
  },
  {
   "cell_type": "markdown",
   "metadata": {},
   "source": [
    "# Sample Interactions"
   ]
  },
  {
   "cell_type": "code",
   "execution_count": null,
   "metadata": {
    "collapsed": false
   },
   "outputs": [],
   "source": [
    "# A simple run\n",
    "run_and_plot((Color.RED.value, (0, 5)))"
   ]
  },
  {
   "cell_type": "code",
   "execution_count": null,
   "metadata": {
    "collapsed": false,
    "scrolled": true
   },
   "outputs": [],
   "source": [
    "# More complciated run - running without a heuristic function\n",
    "run_and_plot((Color.RED.value, (15, 12)))"
   ]
  },
  {
   "cell_type": "code",
   "execution_count": null,
   "metadata": {
    "collapsed": false
   },
   "outputs": [],
   "source": [
    "run_and_plot((Color.RED.value, (15, 12)), neighbour=only_red)"
   ]
  },
  {
   "cell_type": "code",
   "execution_count": null,
   "metadata": {
    "collapsed": false
   },
   "outputs": [],
   "source": [
    "# with heuristic - prefer moving the main robot - reduces # of moves by 1/2\n",
    "run_and_plot((Color.RED.value, (15, 12)), prefer_moving_main(Color.RED.value))"
   ]
  },
  {
   "cell_type": "code",
   "execution_count": null,
   "metadata": {
    "collapsed": false,
    "scrolled": true
   },
   "outputs": [],
   "source": [
    "# A complicated run\n",
    "# without -> with heuristic = ?? -> 166695 iterations\n",
    "run_and_plot((Color.RED.value, (7, 10)), prefer_moving_main(Color.RED.value, 1))"
   ]
  },
  {
   "cell_type": "code",
   "execution_count": null,
   "metadata": {
    "collapsed": false
   },
   "outputs": [],
   "source": [
    "# another example\n",
    "run_and_plot((Color.BLUE.value, (2, 10)), prefer_moving_main(Color.BLUE.value))"
   ]
  },
  {
   "cell_type": "markdown",
   "metadata": {},
   "source": [
    "# Inadmissible Heuristic"
   ]
  },
  {
   "cell_type": "code",
   "execution_count": null,
   "metadata": {
    "collapsed": false
   },
   "outputs": [],
   "source": [
    "# Simple run. requires 0.5M iterations\n",
    "run_and_plot((2, (5, 5)), prefer_moving_main(2))"
   ]
  },
  {
   "cell_type": "code",
   "execution_count": null,
   "metadata": {
    "collapsed": false
   },
   "outputs": [],
   "source": [
    "# inadmissible heuristic but same result - only 223719 iterations\n",
    "run_and_plot((2, (5, 5)), prefer_moving_main(2, 2))"
   ]
  },
  {
   "cell_type": "code",
   "execution_count": null,
   "metadata": {
    "collapsed": false
   },
   "outputs": [],
   "source": [
    "# \"very\" inadmissible heuristic but fast.\n",
    "# if we know that an optimal solution doesn't move other robots,\n",
    "# we still achieve an optimal solution with prefer_moving_main.\n",
    "# only 45829 iterations.\n",
    "run_and_plot((2, (5, 5)), prefer_moving_main(2, 5))"
   ]
  },
  {
   "cell_type": "code",
   "execution_count": null,
   "metadata": {
    "collapsed": false
   },
   "outputs": [],
   "source": [
    "# heavily prefer moving main.\n",
    "# ? -> 53903, but recached a solution with distance 9 instead of 8.\n",
    "run_and_plot((0, (7, 10)), prefer_moving_main(0, 4))"
   ]
  },
  {
   "cell_type": "code",
   "execution_count": null,
   "metadata": {
    "collapsed": false
   },
   "outputs": [],
   "source": [
    "run_and_plot((0, (1, 13)), prefer_moving_main(0))"
   ]
  },
  {
   "cell_type": "code",
   "execution_count": null,
   "metadata": {
    "collapsed": false
   },
   "outputs": [],
   "source": [
    "run_and_plot((0, (5, 13)), prefer_moving_main(0))"
   ]
  },
  {
   "cell_type": "code",
   "execution_count": null,
   "metadata": {
    "collapsed": false
   },
   "outputs": [],
   "source": [
    "run_and_plot((RED, (6, 12)), prefer_moving_main(RED, 3))"
   ]
  },
  {
   "cell_type": "markdown",
   "metadata": {
    "collapsed": true
   },
   "source": [
    "# Backtracking Approach"
   ]
  },
  {
   "cell_type": "code",
   "execution_count": 9,
   "metadata": {
    "collapsed": false
   },
   "outputs": [
    {
     "data": {
      "image/png": "[encoded data removed]",
      "text/plain": [
       "<matplotlib.figure.Figure at 0x10d3ae240>"
      ]
     },
     "metadata": {},
     "output_type": "display_data"
    }
   ],
   "source": [
    "def single_path(source, blockers=None):\n",
    "    if blockers is None:\n",
    "        blockers = set()\n",
    "    def single_neighbour(coord): return ricochet.prev_position(board, blockers, coord, magic_stop=False)\n",
    "    history = ricochet.compute_all(source, single_neighbour)\n",
    "    labels = [[\".\"] * DIMENSION for i in range(DIMENSION)]\n",
    "    for coord, record in history.items():\n",
    "        x, y = coord\n",
    "        labels[y][x] = record[0]\n",
    "    ricochet.print_board(board, labels=labels, markers=[(0, source)] + [(1, coord) for coord in blockers])\n",
    "single_path((5, 5))"
   ]
  },
  {
   "cell_type": "code",
   "execution_count": 8,
   "metadata": {
    "collapsed": false
   },
   "outputs": [
    {
     "data": {
      "image/png": "[encoded data removed]",
      "text/plain": [
       "<matplotlib.figure.Figure at 0x10d3ae780>"
      ]
     },
     "metadata": {},
     "output_type": "display_data"
    }
   ],
   "source": [
    "single_path((8, 9))"
   ]
  },
  {
   "cell_type": "code",
   "execution_count": 12,
   "metadata": {
    "collapsed": false
   },
   "outputs": [
    {
     "data": {
      "image/png": "[encoded data removed]",
      "text/plain": [
       "<matplotlib.figure.Figure at 0x10d5b60b8>"
      ]
     },
     "metadata": {},
     "output_type": "display_data"
    }
   ],
   "source": [
    "single_path((8, 9), {(9, 11)})"
   ]
  },
  {
   "cell_type": "code",
   "execution_count": 14,
   "metadata": {
    "collapsed": false
   },
   "outputs": [
    {
     "data": {
      "image/png": "[encoded data removed]",
      "text/plain": [
       "<matplotlib.figure.Figure at 0x10d3beef0>"
      ]
     },
     "metadata": {},
     "output_type": "display_data"
    }
   ],
   "source": [
    "single_path((8, 9), {(9, 11), (11, 11)})"
   ]
  },
  {
   "cell_type": "code",
   "execution_count": 15,
   "metadata": {
    "collapsed": false
   },
   "outputs": [
    {
     "data": {
      "image/png": "[encoded data removed]",
      "text/plain": [
       "<matplotlib.figure.Figure at 0x10d583c50>"
      ]
     },
     "metadata": {},
     "output_type": "display_data"
    }
   ],
   "source": [
    "single_path((4,6))"
   ]
  },
  {
   "cell_type": "code",
   "execution_count": null,
   "metadata": {
    "collapsed": true
   },
   "outputs": [],
   "source": []
  }
 ],
 "metadata": {
  "kernelspec": {
   "display_name": "Python 3",
   "language": "python",
   "name": "python3"
  },
  "language_info": {
   "codemirror_mode": {
    "name": "ipython",
    "version": 3
   },
   "file_extension": ".py",
   "mimetype": "text/x-python",
   "name": "python",
   "nbconvert_exporter": "python",
   "pygments_lexer": "ipython3",
   "version": "3.5.1"
  }
 },
 "nbformat": 4,
 "nbformat_minor": 0
}
